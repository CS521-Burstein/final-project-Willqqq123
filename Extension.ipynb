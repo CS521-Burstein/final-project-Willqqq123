{
 "cells": [
  {
   "cell_type": "code",
   "execution_count": 2,
   "id": "f43410f9",
   "metadata": {},
   "outputs": [],
   "source": [
    "import pandas as pd\n",
    "url = \"https://raw.githubusercontent.com/bursteinalan/Data-Sets/master/Housing/House%20Prediction%20Data.csv\"\n",
    "\n",
    "housing = pd.read_csv(url) "
   ]
  },
  {
   "cell_type": "code",
   "execution_count": 3,
   "id": "b51fa963",
   "metadata": {},
   "outputs": [],
   "source": [
    "import numpy as np\n",
    "import pandas as pd\n",
    "import seaborn as sns\n",
    "import matplotlib as mpl\n",
    "import matplotlib.pyplot as plt\n",
    "from sklearn import linear_model\n",
    "from sklearn.linear_model import LinearRegression"
   ]
  },
  {
   "cell_type": "code",
   "execution_count": 4,
   "id": "25558644",
   "metadata": {},
   "outputs": [],
   "source": [
    "df = housing[[\"SalePrice\", \"GrLivArea\", \"GarageArea\", \"TotalBsmtSF\", \"CentralAir\"]]"
   ]
  },
  {
   "cell_type": "code",
   "execution_count": 15,
   "id": "45770f29",
   "metadata": {},
   "outputs": [
    {
     "name": "stderr",
     "output_type": "stream",
     "text": [
      "C:\\Users\\karji\\AppData\\Local\\Temp/ipykernel_11032/2725677508.py:1: SettingWithCopyWarning: \n",
      "A value is trying to be set on a copy of a slice from a DataFrame.\n",
      "Try using .loc[row_indexer,col_indexer] = value instead\n",
      "\n",
      "See the caveats in the documentation: https://pandas.pydata.org/pandas-docs/stable/user_guide/indexing.html#returning-a-view-versus-a-copy\n",
      "  df[\"Aircond\"] = df.CentralAir.map({'N':0, 'Y':1})\n"
     ]
    }
   ],
   "source": [
    "df[\"Aircond\"] = df.CentralAir.map({'N':0, 'Y':1})"
   ]
  },
  {
   "cell_type": "code",
   "execution_count": 18,
   "id": "d48e18f5",
   "metadata": {},
   "outputs": [
    {
     "data": {
      "text/plain": [
       "SalePrice      1459\n",
       "GrLivArea         0\n",
       "GarageArea        1\n",
       "TotalBsmtSF       1\n",
       "CentralAir        0\n",
       "Aircond           0\n",
       "dtype: int64"
      ]
     },
     "execution_count": 18,
     "metadata": {},
     "output_type": "execute_result"
    }
   ],
   "source": [
    "df.isna().sum()"
   ]
  },
  {
   "cell_type": "markdown",
   "id": "b16d8d69",
   "metadata": {},
   "source": [
    "## Cleaning the Data"
   ]
  },
  {
   "cell_type": "code",
   "execution_count": 24,
   "id": "37c43300",
   "metadata": {},
   "outputs": [
    {
     "data": {
      "text/html": [
       "<div>\n",
       "<style scoped>\n",
       "    .dataframe tbody tr th:only-of-type {\n",
       "        vertical-align: middle;\n",
       "    }\n",
       "\n",
       "    .dataframe tbody tr th {\n",
       "        vertical-align: top;\n",
       "    }\n",
       "\n",
       "    .dataframe thead th {\n",
       "        text-align: right;\n",
       "    }\n",
       "</style>\n",
       "<table border=\"1\" class=\"dataframe\">\n",
       "  <thead>\n",
       "    <tr style=\"text-align: right;\">\n",
       "      <th></th>\n",
       "      <th>SalePrice</th>\n",
       "      <th>GrLivArea</th>\n",
       "      <th>GarageArea</th>\n",
       "      <th>TotalBsmtSF</th>\n",
       "      <th>CentralAir</th>\n",
       "      <th>Aircond</th>\n",
       "    </tr>\n",
       "  </thead>\n",
       "  <tbody>\n",
       "    <tr>\n",
       "      <th>0</th>\n",
       "      <td>208500.0</td>\n",
       "      <td>1710</td>\n",
       "      <td>548.0</td>\n",
       "      <td>856.0</td>\n",
       "      <td>Y</td>\n",
       "      <td>1</td>\n",
       "    </tr>\n",
       "    <tr>\n",
       "      <th>1</th>\n",
       "      <td>181500.0</td>\n",
       "      <td>1262</td>\n",
       "      <td>460.0</td>\n",
       "      <td>1262.0</td>\n",
       "      <td>Y</td>\n",
       "      <td>1</td>\n",
       "    </tr>\n",
       "    <tr>\n",
       "      <th>2</th>\n",
       "      <td>223500.0</td>\n",
       "      <td>1786</td>\n",
       "      <td>608.0</td>\n",
       "      <td>920.0</td>\n",
       "      <td>Y</td>\n",
       "      <td>1</td>\n",
       "    </tr>\n",
       "    <tr>\n",
       "      <th>3</th>\n",
       "      <td>140000.0</td>\n",
       "      <td>1717</td>\n",
       "      <td>642.0</td>\n",
       "      <td>756.0</td>\n",
       "      <td>Y</td>\n",
       "      <td>1</td>\n",
       "    </tr>\n",
       "    <tr>\n",
       "      <th>4</th>\n",
       "      <td>250000.0</td>\n",
       "      <td>2198</td>\n",
       "      <td>836.0</td>\n",
       "      <td>1145.0</td>\n",
       "      <td>Y</td>\n",
       "      <td>1</td>\n",
       "    </tr>\n",
       "    <tr>\n",
       "      <th>...</th>\n",
       "      <td>...</td>\n",
       "      <td>...</td>\n",
       "      <td>...</td>\n",
       "      <td>...</td>\n",
       "      <td>...</td>\n",
       "      <td>...</td>\n",
       "    </tr>\n",
       "    <tr>\n",
       "      <th>1455</th>\n",
       "      <td>175000.0</td>\n",
       "      <td>1647</td>\n",
       "      <td>460.0</td>\n",
       "      <td>953.0</td>\n",
       "      <td>Y</td>\n",
       "      <td>1</td>\n",
       "    </tr>\n",
       "    <tr>\n",
       "      <th>1456</th>\n",
       "      <td>210000.0</td>\n",
       "      <td>2073</td>\n",
       "      <td>500.0</td>\n",
       "      <td>1542.0</td>\n",
       "      <td>Y</td>\n",
       "      <td>1</td>\n",
       "    </tr>\n",
       "    <tr>\n",
       "      <th>1457</th>\n",
       "      <td>266500.0</td>\n",
       "      <td>2340</td>\n",
       "      <td>252.0</td>\n",
       "      <td>1152.0</td>\n",
       "      <td>Y</td>\n",
       "      <td>1</td>\n",
       "    </tr>\n",
       "    <tr>\n",
       "      <th>1458</th>\n",
       "      <td>142125.0</td>\n",
       "      <td>1078</td>\n",
       "      <td>240.0</td>\n",
       "      <td>1078.0</td>\n",
       "      <td>Y</td>\n",
       "      <td>1</td>\n",
       "    </tr>\n",
       "    <tr>\n",
       "      <th>1459</th>\n",
       "      <td>147500.0</td>\n",
       "      <td>1256</td>\n",
       "      <td>276.0</td>\n",
       "      <td>1256.0</td>\n",
       "      <td>Y</td>\n",
       "      <td>1</td>\n",
       "    </tr>\n",
       "  </tbody>\n",
       "</table>\n",
       "<p>1408 rows × 6 columns</p>\n",
       "</div>"
      ],
      "text/plain": [
       "      SalePrice  GrLivArea  GarageArea  TotalBsmtSF CentralAir  Aircond\n",
       "0      208500.0       1710       548.0        856.0          Y        1\n",
       "1      181500.0       1262       460.0       1262.0          Y        1\n",
       "2      223500.0       1786       608.0        920.0          Y        1\n",
       "3      140000.0       1717       642.0        756.0          Y        1\n",
       "4      250000.0       2198       836.0       1145.0          Y        1\n",
       "...         ...        ...         ...          ...        ...      ...\n",
       "1455   175000.0       1647       460.0        953.0          Y        1\n",
       "1456   210000.0       2073       500.0       1542.0          Y        1\n",
       "1457   266500.0       2340       252.0       1152.0          Y        1\n",
       "1458   142125.0       1078       240.0       1078.0          Y        1\n",
       "1459   147500.0       1256       276.0       1256.0          Y        1\n",
       "\n",
       "[1408 rows x 6 columns]"
      ]
     },
     "execution_count": 24,
     "metadata": {},
     "output_type": "execute_result"
    }
   ],
   "source": [
    "df = df[df[\"SalePrice\"] < 500000]\n",
    "\n",
    "df = df[df[\"GrLivArea\"] < 4000]\n",
    "\n",
    "df = df[df[\"GarageArea\"] < 1300]\n",
    "\n",
    "df = df[df[\"TotalBsmtSF\"] < 3000]\n",
    "\n",
    "df = df[df[\"TotalBsmtSF\"] > 0] #doesn't make sense that area of Basement is 0\n",
    "\n",
    "df = df.dropna()"
   ]
  },
  {
   "cell_type": "code",
   "execution_count": 47,
   "id": "aa02d56a",
   "metadata": {},
   "outputs": [
    {
     "data": {
      "text/plain": [
       "array([214614.12112854])"
      ]
     },
     "execution_count": 47,
     "metadata": {},
     "output_type": "execute_result"
    }
   ],
   "source": [
    "X = df[[\"GrLivArea\", \"GarageArea\", \"TotalBsmtSF\", 'Aircond']]\n",
    "y = df[\"SalePrice\"]\n",
    "\n",
    "reg = LinearRegression().fit(X,y)\n",
    "\n",
    "reg.predict(np.array([[2000, 500, 1000, 1]]))"
   ]
  },
  {
   "cell_type": "code",
   "execution_count": 67,
   "id": "29f4aa3c",
   "metadata": {},
   "outputs": [
    {
     "data": {
      "text/plain": [
       "array([   67.8725862 ,    90.56933001,    59.65534368, 34409.78000447])"
      ]
     },
     "execution_count": 67,
     "metadata": {},
     "output_type": "execute_result"
    }
   ],
   "source": [
    "from sklearn.model_selection import train_test_split\n",
    "# Now that we have performed our regression above with SalePrice as the Dependent Variable and \n",
    "# the other 4 independent variable, to further improve the model, we train and test the data.\n",
    "X_train, X_test, y_train, y_test = train_test_split(X, y, test_size = 0.2, random_state = 42)\n",
    "\n",
    "regression = LinearRegression()\n",
    "regression.fit(X_train, y_train)\n",
    "\n",
    "regression.intercept_\n",
    "\n",
    "regression.coef_\n",
    "\n"
   ]
  },
  {
   "cell_type": "code",
   "execution_count": 55,
   "id": "56fe582c",
   "metadata": {},
   "outputs": [
    {
     "data": {
      "text/plain": [
       "<AxesSubplot:xlabel='Predicted', ylabel='Actual'>"
      ]
     },
     "execution_count": 55,
     "metadata": {},
     "output_type": "execute_result"
    },
    {
     "data": {
      "image/png": "[encoded data removed]",
      "text/plain": [
       "<Figure size 432x288 with 1 Axes>"
      ]
     },
     "metadata": {
      "needs_background": "light"
     },
     "output_type": "display_data"
    }
   ],
   "source": [
    "y_pred = regression.predict(X_test)\n",
    "\n",
    "y_pred_compare = ({'Actual': y_test, 'Predicted': y_pred})\n",
    "\n",
    "Predicted = np.array(y_pred)\n",
    "Actual = np.array(y_test)\n",
    "\n",
    "display = pd.DataFrame({'Predicted': list(Predicted), 'Actual': list(Actual)})\n",
    "\n",
    "display\n",
    "\n",
    "display.plot(kind=\"scatter\", x= \"Predicted\", y = \"Actual\")"
   ]
  },
  {
   "cell_type": "code",
   "execution_count": 63,
   "id": "9e256770",
   "metadata": {},
   "outputs": [
    {
     "data": {
      "text/html": [
       "<div>\n",
       "<style scoped>\n",
       "    .dataframe tbody tr th:only-of-type {\n",
       "        vertical-align: middle;\n",
       "    }\n",
       "\n",
       "    .dataframe tbody tr th {\n",
       "        vertical-align: top;\n",
       "    }\n",
       "\n",
       "    .dataframe thead th {\n",
       "        text-align: right;\n",
       "    }\n",
       "</style>\n",
       "<table border=\"1\" class=\"dataframe\">\n",
       "  <thead>\n",
       "    <tr style=\"text-align: right;\">\n",
       "      <th></th>\n",
       "      <th>independent variable</th>\n",
       "      <th>VIF</th>\n",
       "    </tr>\n",
       "  </thead>\n",
       "  <tbody>\n",
       "    <tr>\n",
       "      <th>0</th>\n",
       "      <td>GrLivArea</td>\n",
       "      <td>11.648110</td>\n",
       "    </tr>\n",
       "    <tr>\n",
       "      <th>1</th>\n",
       "      <td>GarageArea</td>\n",
       "      <td>9.151446</td>\n",
       "    </tr>\n",
       "    <tr>\n",
       "      <th>2</th>\n",
       "      <td>TotalBsmtSF</td>\n",
       "      <td>12.372047</td>\n",
       "    </tr>\n",
       "    <tr>\n",
       "      <th>3</th>\n",
       "      <td>Aircond</td>\n",
       "      <td>9.543796</td>\n",
       "    </tr>\n",
       "  </tbody>\n",
       "</table>\n",
       "</div>"
      ],
      "text/plain": [
       "  independent variable        VIF\n",
       "0            GrLivArea  11.648110\n",
       "1           GarageArea   9.151446\n",
       "2          TotalBsmtSF  12.372047\n",
       "3              Aircond   9.543796"
      ]
     },
     "execution_count": 63,
     "metadata": {},
     "output_type": "execute_result"
    }
   ],
   "source": [
    "from statsmodels.stats.outliers_influence import variance_inflation_factor\n",
    "\n",
    "vif_data = pd.DataFrame()\n",
    "vif_data[\"independent variable\"] = X.columns\n",
    "vif_data[\"VIF\"] = [variance_inflation_factor(X.values, i) for i in range(len(X.columns))]\n",
    "\n",
    "vif_data"
   ]
  },
  {
   "cell_type": "markdown",
   "id": "08cb8926",
   "metadata": {},
   "source": [
    "Though we have somewhat high VIF, which means our independent variables are correlated, it is reasonable to expect that a house with large living area above ground (GrLivArea) will have large basement area and large garage area.\n"
   ]
  },
  {
   "cell_type": "code",
   "execution_count": 68,
   "id": "e9de2d86",
   "metadata": {},
   "outputs": [
    {
     "name": "stderr",
     "output_type": "stream",
     "text": [
      "C:\\Users\\karji\\anaconda3\\lib\\site-packages\\statsmodels\\tsa\\tsatools.py:142: FutureWarning: In a future version of pandas all arguments of concat except for the argument 'objs' will be keyword-only\n",
      "  x = pd.concat(x[::order], 1)\n"
     ]
    }
   ],
   "source": [
    "from statsmodels.formula.api import ols\n",
    "import statsmodels.api as sm\n",
    "\n",
    "dependent_variable = df['SalePrice']\n",
    "Independent_variables = df.drop(columns = {'SalePrice', 'CentralAir'})\n",
    "\n",
    "# adding an intercept term\n",
    "Independent_variables = sm.add_constant(Independent_variables)"
   ]
  },
  {
   "cell_type": "code",
   "execution_count": 72,
   "id": "abd7c280",
   "metadata": {},
   "outputs": [
    {
     "data": {
      "text/html": [
       "<table class=\"simpletable\">\n",
       "<caption>OLS Regression Results</caption>\n",
       "<tr>\n",
       "  <th>Dep. Variable:</th>        <td>SalePrice</td>    <th>  R-squared:         </th> <td>   0.729</td> \n",
       "</tr>\n",
       "<tr>\n",
       "  <th>Model:</th>                   <td>OLS</td>       <th>  Adj. R-squared:    </th> <td>   0.728</td> \n",
       "</tr>\n",
       "<tr>\n",
       "  <th>Method:</th>             <td>Least Squares</td>  <th>  F-statistic:       </th> <td>   941.5</td> \n",
       "</tr>\n",
       "<tr>\n",
       "  <th>Date:</th>             <td>Thu, 21 Apr 2022</td> <th>  Prob (F-statistic):</th>  <td>  0.00</td>  \n",
       "</tr>\n",
       "<tr>\n",
       "  <th>Time:</th>                 <td>18:06:47</td>     <th>  Log-Likelihood:    </th> <td> -16816.</td> \n",
       "</tr>\n",
       "<tr>\n",
       "  <th>No. Observations:</th>      <td>  1408</td>      <th>  AIC:               </th> <td>3.364e+04</td>\n",
       "</tr>\n",
       "<tr>\n",
       "  <th>Df Residuals:</th>          <td>  1403</td>      <th>  BIC:               </th> <td>3.367e+04</td>\n",
       "</tr>\n",
       "<tr>\n",
       "  <th>Df Model:</th>              <td>     4</td>      <th>                     </th>     <td> </td>    \n",
       "</tr>\n",
       "<tr>\n",
       "  <th>Covariance Type:</th>      <td>nonrobust</td>    <th>                     </th>     <td> </td>    \n",
       "</tr>\n",
       "</table>\n",
       "<table class=\"simpletable\">\n",
       "<tr>\n",
       "       <td></td>          <th>coef</th>     <th>std err</th>      <th>t</th>      <th>P>|t|</th>  <th>[0.025</th>    <th>0.975]</th>  \n",
       "</tr>\n",
       "<tr>\n",
       "  <th>const</th>       <td>-6.357e+04</td> <td> 5191.918</td> <td>  -12.244</td> <td> 0.000</td> <td>-7.38e+04</td> <td>-5.34e+04</td>\n",
       "</tr>\n",
       "<tr>\n",
       "  <th>GrLivArea</th>   <td>   68.9247</td> <td>    2.337</td> <td>   29.489</td> <td> 0.000</td> <td>   64.340</td> <td>   73.510</td>\n",
       "</tr>\n",
       "<tr>\n",
       "  <th>GarageArea</th>  <td>   92.9492</td> <td>    5.850</td> <td>   15.890</td> <td> 0.000</td> <td>   81.474</td> <td>  104.424</td>\n",
       "</tr>\n",
       "<tr>\n",
       "  <th>TotalBsmtSF</th> <td>   59.7966</td> <td>    3.204</td> <td>   18.665</td> <td> 0.000</td> <td>   53.512</td> <td>   66.081</td>\n",
       "</tr>\n",
       "<tr>\n",
       "  <th>Aircond</th>     <td> 3.406e+04</td> <td> 4375.577</td> <td>    7.784</td> <td> 0.000</td> <td> 2.55e+04</td> <td> 4.26e+04</td>\n",
       "</tr>\n",
       "</table>\n",
       "<table class=\"simpletable\">\n",
       "<tr>\n",
       "  <th>Omnibus:</th>       <td>83.580</td> <th>  Durbin-Watson:     </th> <td>   2.026</td>\n",
       "</tr>\n",
       "<tr>\n",
       "  <th>Prob(Omnibus):</th> <td> 0.000</td> <th>  Jarque-Bera (JB):  </th> <td> 335.754</td>\n",
       "</tr>\n",
       "<tr>\n",
       "  <th>Skew:</th>          <td> 0.044</td> <th>  Prob(JB):          </th> <td>1.24e-73</td>\n",
       "</tr>\n",
       "<tr>\n",
       "  <th>Kurtosis:</th>      <td> 5.391</td> <th>  Cond. No.          </th> <td>1.25e+04</td>\n",
       "</tr>\n",
       "</table><br/><br/>Notes:<br/>[1] Standard Errors assume that the covariance matrix of the errors is correctly specified.<br/>[2] The condition number is large, 1.25e+04. This might indicate that there are<br/>strong multicollinearity or other numerical problems."
      ],
      "text/plain": [
       "<class 'statsmodels.iolib.summary.Summary'>\n",
       "\"\"\"\n",
       "                            OLS Regression Results                            \n",
       "==============================================================================\n",
       "Dep. Variable:              SalePrice   R-squared:                       0.729\n",
       "Model:                            OLS   Adj. R-squared:                  0.728\n",
       "Method:                 Least Squares   F-statistic:                     941.5\n",
       "Date:                Thu, 21 Apr 2022   Prob (F-statistic):               0.00\n",
       "Time:                        18:06:47   Log-Likelihood:                -16816.\n",
       "No. Observations:                1408   AIC:                         3.364e+04\n",
       "Df Residuals:                    1403   BIC:                         3.367e+04\n",
       "Df Model:                           4                                         \n",
       "Covariance Type:            nonrobust                                         \n",
       "===============================================================================\n",
       "                  coef    std err          t      P>|t|      [0.025      0.975]\n",
       "-------------------------------------------------------------------------------\n",
       "const       -6.357e+04   5191.918    -12.244      0.000   -7.38e+04   -5.34e+04\n",
       "GrLivArea      68.9247      2.337     29.489      0.000      64.340      73.510\n",
       "GarageArea     92.9492      5.850     15.890      0.000      81.474     104.424\n",
       "TotalBsmtSF    59.7966      3.204     18.665      0.000      53.512      66.081\n",
       "Aircond      3.406e+04   4375.577      7.784      0.000    2.55e+04    4.26e+04\n",
       "==============================================================================\n",
       "Omnibus:                       83.580   Durbin-Watson:                   2.026\n",
       "Prob(Omnibus):                  0.000   Jarque-Bera (JB):              335.754\n",
       "Skew:                           0.044   Prob(JB):                     1.24e-73\n",
       "Kurtosis:                       5.391   Cond. No.                     1.25e+04\n",
       "==============================================================================\n",
       "\n",
       "Notes:\n",
       "[1] Standard Errors assume that the covariance matrix of the errors is correctly specified.\n",
       "[2] The condition number is large, 1.25e+04. This might indicate that there are\n",
       "strong multicollinearity or other numerical problems.\n",
       "\"\"\""
      ]
     },
     "execution_count": 72,
     "metadata": {},
     "output_type": "execute_result"
    }
   ],
   "source": [
    "model1 = sm.OLS(dependent_variable, Independent_variables)\n",
    "\n",
    "model1 = model1.fit()\n",
    "\n",
    "\n",
    "# get the model summary\n",
    "model1.summary()"
   ]
  },
  {
   "cell_type": "markdown",
   "id": "304ee10c",
   "metadata": {},
   "source": [
    "As we see from the above OLS regression, the P-value for all the independent variables indicates that, the coefficient term of each independent variable is significant at 5 percent level. And the null hypothesis that the coefficient equals to zero can be rejected at 5 per cent (in fact, this is significant at 1 per cent level too.)"
   ]
  },
  {
   "cell_type": "code",
   "execution_count": 89,
   "id": "050cd7fb",
   "metadata": {},
   "outputs": [
    {
     "name": "stderr",
     "output_type": "stream",
     "text": [
      "C:\\Users\\karji\\anaconda3\\lib\\site-packages\\statsmodels\\tsa\\tsatools.py:142: FutureWarning: In a future version of pandas all arguments of concat except for the argument 'objs' will be keyword-only\n",
      "  x = pd.concat(x[::order], 1)\n"
     ]
    }
   ],
   "source": [
    "dep_v = df['SalePrice']\n",
    "indep_v = df.drop(columns = {'SalePrice', 'CentralAir'})\n",
    "\n",
    "# adding an intercept term\n",
    "\n",
    "indep_v = sm.add_constant(indep_v)"
   ]
  },
  {
   "cell_type": "code",
   "execution_count": 95,
   "id": "e3b309f5",
   "metadata": {},
   "outputs": [
    {
     "data": {
      "text/html": [
       "<table class=\"simpletable\">\n",
       "<caption>OLS Regression Results</caption>\n",
       "<tr>\n",
       "  <th>Dep. Variable:</th>        <td>SalePrice</td>    <th>  R-squared:         </th> <td>   0.712</td> \n",
       "</tr>\n",
       "<tr>\n",
       "  <th>Model:</th>                   <td>OLS</td>       <th>  Adj. R-squared:    </th> <td>   0.711</td> \n",
       "</tr>\n",
       "<tr>\n",
       "  <th>Method:</th>             <td>Least Squares</td>  <th>  F-statistic:       </th> <td>   691.9</td> \n",
       "</tr>\n",
       "<tr>\n",
       "  <th>Date:</th>             <td>Thu, 21 Apr 2022</td> <th>  Prob (F-statistic):</th> <td>6.73e-301</td>\n",
       "</tr>\n",
       "<tr>\n",
       "  <th>Time:</th>                 <td>18:30:16</td>     <th>  Log-Likelihood:    </th> <td> -13480.</td> \n",
       "</tr>\n",
       "<tr>\n",
       "  <th>No. Observations:</th>      <td>  1126</td>      <th>  AIC:               </th> <td>2.697e+04</td>\n",
       "</tr>\n",
       "<tr>\n",
       "  <th>Df Residuals:</th>          <td>  1121</td>      <th>  BIC:               </th> <td>2.699e+04</td>\n",
       "</tr>\n",
       "<tr>\n",
       "  <th>Df Model:</th>              <td>     4</td>      <th>                     </th>     <td> </td>    \n",
       "</tr>\n",
       "<tr>\n",
       "  <th>Covariance Type:</th>      <td>nonrobust</td>    <th>                     </th>     <td> </td>    \n",
       "</tr>\n",
       "</table>\n",
       "<table class=\"simpletable\">\n",
       "<tr>\n",
       "       <td></td>          <th>coef</th>     <th>std err</th>      <th>t</th>      <th>P>|t|</th>  <th>[0.025</th>    <th>0.975]</th>  \n",
       "</tr>\n",
       "<tr>\n",
       "  <th>const</th>       <td>-6.196e+04</td> <td> 5917.465</td> <td>  -10.471</td> <td> 0.000</td> <td>-7.36e+04</td> <td>-5.04e+04</td>\n",
       "</tr>\n",
       "<tr>\n",
       "  <th>GrLivArea</th>   <td>   67.8726</td> <td>    2.650</td> <td>   25.613</td> <td> 0.000</td> <td>   62.673</td> <td>   73.072</td>\n",
       "</tr>\n",
       "<tr>\n",
       "  <th>GarageArea</th>  <td>   90.5693</td> <td>    6.663</td> <td>   13.593</td> <td> 0.000</td> <td>   77.497</td> <td>  103.642</td>\n",
       "</tr>\n",
       "<tr>\n",
       "  <th>TotalBsmtSF</th> <td>   59.6553</td> <td>    3.656</td> <td>   16.317</td> <td> 0.000</td> <td>   52.482</td> <td>   66.829</td>\n",
       "</tr>\n",
       "<tr>\n",
       "  <th>Aircond</th>     <td> 3.441e+04</td> <td> 4980.350</td> <td>    6.909</td> <td> 0.000</td> <td> 2.46e+04</td> <td> 4.42e+04</td>\n",
       "</tr>\n",
       "</table>\n",
       "<table class=\"simpletable\">\n",
       "<tr>\n",
       "  <th>Omnibus:</th>       <td>68.561</td> <th>  Durbin-Watson:     </th> <td>   1.994</td>\n",
       "</tr>\n",
       "<tr>\n",
       "  <th>Prob(Omnibus):</th> <td> 0.000</td> <th>  Jarque-Bera (JB):  </th> <td> 259.949</td>\n",
       "</tr>\n",
       "<tr>\n",
       "  <th>Skew:</th>          <td> 0.119</td> <th>  Prob(JB):          </th> <td>3.57e-57</td>\n",
       "</tr>\n",
       "<tr>\n",
       "  <th>Kurtosis:</th>      <td> 5.342</td> <th>  Cond. No.          </th> <td>1.23e+04</td>\n",
       "</tr>\n",
       "</table><br/><br/>Notes:<br/>[1] Standard Errors assume that the covariance matrix of the errors is correctly specified.<br/>[2] The condition number is large, 1.23e+04. This might indicate that there are<br/>strong multicollinearity or other numerical problems."
      ],
      "text/plain": [
       "<class 'statsmodels.iolib.summary.Summary'>\n",
       "\"\"\"\n",
       "                            OLS Regression Results                            \n",
       "==============================================================================\n",
       "Dep. Variable:              SalePrice   R-squared:                       0.712\n",
       "Model:                            OLS   Adj. R-squared:                  0.711\n",
       "Method:                 Least Squares   F-statistic:                     691.9\n",
       "Date:                Thu, 21 Apr 2022   Prob (F-statistic):          6.73e-301\n",
       "Time:                        18:30:16   Log-Likelihood:                -13480.\n",
       "No. Observations:                1126   AIC:                         2.697e+04\n",
       "Df Residuals:                    1121   BIC:                         2.699e+04\n",
       "Df Model:                           4                                         \n",
       "Covariance Type:            nonrobust                                         \n",
       "===============================================================================\n",
       "                  coef    std err          t      P>|t|      [0.025      0.975]\n",
       "-------------------------------------------------------------------------------\n",
       "const       -6.196e+04   5917.465    -10.471      0.000   -7.36e+04   -5.04e+04\n",
       "GrLivArea      67.8726      2.650     25.613      0.000      62.673      73.072\n",
       "GarageArea     90.5693      6.663     13.593      0.000      77.497     103.642\n",
       "TotalBsmtSF    59.6553      3.656     16.317      0.000      52.482      66.829\n",
       "Aircond      3.441e+04   4980.350      6.909      0.000    2.46e+04    4.42e+04\n",
       "==============================================================================\n",
       "Omnibus:                       68.561   Durbin-Watson:                   1.994\n",
       "Prob(Omnibus):                  0.000   Jarque-Bera (JB):              259.949\n",
       "Skew:                           0.119   Prob(JB):                     3.57e-57\n",
       "Kurtosis:                       5.342   Cond. No.                     1.23e+04\n",
       "==============================================================================\n",
       "\n",
       "Notes:\n",
       "[1] Standard Errors assume that the covariance matrix of the errors is correctly specified.\n",
       "[2] The condition number is large, 1.23e+04. This might indicate that there are\n",
       "strong multicollinearity or other numerical problems.\n",
       "\"\"\""
      ]
     },
     "execution_count": 95,
     "metadata": {},
     "output_type": "execute_result"
    }
   ],
   "source": [
    "indep_v_train, indep_v_test, dep_v_train, dep_v_test = train_test_split(indep_v, dep_v, test_size = 0.2, random_state = 42)\n",
    "\n",
    "model_tt = sm.OLS(dep_v_train, indep_v_train)\n",
    "\n",
    "model_tt = model_tt.fit()\n",
    "\n",
    "\n",
    "# get the model summary\n",
    "model_tt.summary()"
   ]
  },
  {
   "cell_type": "code",
   "execution_count": null,
   "id": "0d32217c",
   "metadata": {},
   "outputs": [],
   "source": []
  }
 ],
 "metadata": {
  "kernelspec": {
   "display_name": "Python 3 (ipykernel)",
   "language": "python",
   "name": "python3"
  },
  "language_info": {
   "codemirror_mode": {
    "name": "ipython",
    "version": 3
   },
   "file_extension": ".py",
   "mimetype": "text/x-python",
   "name": "python",
   "nbconvert_exporter": "python",
   "pygments_lexer": "ipython3",
   "version": "3.9.7"
  }
 },
 "nbformat": 4,
 "nbformat_minor": 5
}
