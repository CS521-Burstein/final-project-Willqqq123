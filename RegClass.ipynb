{
 "cells": [
  {
   "cell_type": "code",
   "execution_count": 1,
   "id": "2764a9ce",
   "metadata": {},
   "outputs": [],
   "source": [
    "import numpy as np\n",
    "import pandas as pd\n",
    "import seaborn as sb\n",
    "import matplotlib.pyplot as plt\n",
    "\n",
    "from sklearn.model_selection import train_test_split\n",
    "from sklearn.linear_model import LinearRegression\n",
    "from statsmodels.formula.api import ols\n",
    "\n",
    "import statsmodels.api as sm\n",
    "\n",
    "#Score Calculating Function\n",
    "from sklearn.metrics import r2_score, explained_variance_score"
   ]
  },
  {
   "cell_type": "code",
   "execution_count": 2,
   "id": "7fde7336",
   "metadata": {},
   "outputs": [],
   "source": [
    "url = \"https://raw.githubusercontent.com/bursteinalan/Data-Sets/master/Housing/House%20Prediction%20Data.csv\"\n",
    "\n",
    "housing = pd.read_csv(url) "
   ]
  },
  {
   "cell_type": "code",
   "execution_count": 3,
   "id": "93b8a22d",
   "metadata": {},
   "outputs": [],
   "source": [
    "class RegClass:\n",
    "    def __init__(self, X, y, model, reg_type):\n",
    "        self.X = X\n",
    "        self.y = y\n",
    "        self.model = model\n",
    "        self.reg_type = reg_type\n",
    "        \n",
    "        # Train Test and Split\n",
    "        self.X_train, self.X_test, self.y_train, self.y_test = train_test_split(self.X, self.y, test_size=0.2, random_state=42)\n",
    "        \n",
    "        self.execute_model()\n",
    "        \n",
    "    def train_and_predict(self):\n",
    "                \n",
    "        self.model.fit(self.X_train, self.y_train)            # Training the Model\n",
    "        self.y_pred = self.model.predict(self.X_test)         # Testing the Model\n",
    "    \n",
    "    def visualizing_results(self):\n",
    "        if self.reg_type == \"linear\" or self.reg_type == \"multi\":      # Display information of Coefficients and Intercept \n",
    "            print(\"Information about the model\\n\")\n",
    "            print(f\"     Intercept: {self.model.intercept_}\")\n",
    "            print(\"Coefficient(s): \", end = '')                        \n",
    "            for i in self.model.coef_:\n",
    "                if i == self.model.coef_[-1]:\n",
    "                    print(i,'\\n')\n",
    "                else:\n",
    "                    print(str(i)+',', end = ' ')\n",
    "        \n",
    "            if self.reg_type == \"linear\":                          # Visualization for the Regression Model\n",
    "                plt.scatter(self.X_test, self.y_test, label = \"Actual\", color = \"red\", alpha = 0.7)   \n",
    "                plt.scatter(self.X_test, self.y_pred, label = \"Predicted\", color = \"green\")\n",
    "                plt.legend()\n",
    "                plt.show()\n",
    "                \n",
    "    def score(self):\n",
    "        print(f\"\"\"                \n",
    "            R-squared value     : {\"%.2f\"%(r2_score(self.y_test, self.y_pred) * 100)}%\n",
    "            Explained Variance  : {\"%.2f\"%(explained_variance_score(self.y_test, self.y_pred))}\n",
    "            \n",
    "\"\"\")\n",
    "        \n",
    "    def execute_model(self):\n",
    "        \n",
    "        self.train_and_predict()  #Training and Predicting\n",
    "        \n",
    "        self.visualizing_results()          #Visualization\n",
    "        \n",
    "        self.score()              #Score\n",
    "        \n",
    "        \n",
    "        "
   ]
  },
  {
   "cell_type": "code",
   "execution_count": 4,
   "id": "4c34e022",
   "metadata": {},
   "outputs": [
    {
     "name": "stderr",
     "output_type": "stream",
     "text": [
      "C:\\Users\\karji\\AppData\\Local\\Temp/ipykernel_15568/3887903598.py:3: SettingWithCopyWarning: \n",
      "A value is trying to be set on a copy of a slice from a DataFrame.\n",
      "Try using .loc[row_indexer,col_indexer] = value instead\n",
      "\n",
      "See the caveats in the documentation: https://pandas.pydata.org/pandas-docs/stable/user_guide/indexing.html#returning-a-view-versus-a-copy\n",
      "  df[\"Aircond\"] = df.CentralAir.map({'N':0, 'Y':1})\n"
     ]
    }
   ],
   "source": [
    "df = housing[[\"SalePrice\", \"GrLivArea\", \"GarageArea\", \"TotalBsmtSF\", \"CentralAir\"]]\n",
    "\n",
    "df[\"Aircond\"] = df.CentralAir.map({'N':0, 'Y':1})\n",
    "\n",
    "df = df[df[\"SalePrice\"] < 500000]\n",
    "\n",
    "df = df[df[\"GrLivArea\"] < 4000]\n",
    "\n",
    "df = df[df[\"GarageArea\"] < 1300]\n",
    "\n",
    "df = df[df[\"TotalBsmtSF\"] < 3000]\n",
    "\n",
    "df = df[df[\"TotalBsmtSF\"] > 0] #doesn't make sense that area of Basement is 0\n",
    "\n",
    "df = df.dropna()"
   ]
  },
  {
   "cell_type": "code",
   "execution_count": 5,
   "id": "411a9c2b",
   "metadata": {},
   "outputs": [],
   "source": [
    "X = df[[\"GrLivArea\"]]\n",
    "y = df[\"SalePrice\"]\n",
    "\n"
   ]
  },
  {
   "cell_type": "code",
   "execution_count": null,
   "id": "0caabab9",
   "metadata": {},
   "outputs": [],
   "source": []
  },
  {
   "cell_type": "code",
   "execution_count": 7,
   "id": "211bfeba",
   "metadata": {},
   "outputs": [
    {
     "name": "stdout",
     "output_type": "stream",
     "text": [
      "Information about the model\n",
      "\n",
      "     Intercept: 25234.25408949406\n",
      "Coefficient(s): 102.11430224613694 \n",
      "\n"
     ]
    },
    {
     "data": {
      "image/png": "[encoded data removed]",
      "text/plain": [
       "<Figure size 432x288 with 1 Axes>"
      ]
     },
     "metadata": {
      "needs_background": "light"
     },
     "output_type": "display_data"
    },
    {
     "name": "stdout",
     "output_type": "stream",
     "text": [
      "                \n",
      "            R-squared value     : 55.29%\n",
      "            Explained Variance  : 0.56\n",
      "            \n",
      "\n"
     ]
    }
   ],
   "source": [
    "linear_regression = RegClass(X,y,  model = LinearRegression(), reg_type = \"linear\")"
   ]
  },
  {
   "cell_type": "code",
   "execution_count": null,
   "id": "791363a3",
   "metadata": {},
   "outputs": [],
   "source": []
  }
 ],
 "metadata": {
  "kernelspec": {
   "display_name": "Python 3 (ipykernel)",
   "language": "python",
   "name": "python3"
  },
  "language_info": {
   "codemirror_mode": {
    "name": "ipython",
    "version": 3
   },
   "file_extension": ".py",
   "mimetype": "text/x-python",
   "name": "python",
   "nbconvert_exporter": "python",
   "pygments_lexer": "ipython3",
   "version": "3.9.7"
  }
 },
 "nbformat": 4,
 "nbformat_minor": 5
}
